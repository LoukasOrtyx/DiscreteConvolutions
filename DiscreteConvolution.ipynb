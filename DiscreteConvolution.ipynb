{
  "nbformat": 4,
  "nbformat_minor": 0,
  "metadata": {
    "colab": {
      "name": "discrete_convolution.ipynb",
      "provenance": [],
      "collapsed_sections": []
    },
    "kernelspec": {
      "name": "python3",
      "display_name": "Python 3"
    }
  },
  "cells": [
    {
      "cell_type": "code",
      "metadata": {
        "id": "KShgh4tsOuMu"
      },
      "source": [
        "import math\n",
        "import matplotlib.pyplot as plt\n",
        "from copy import deepcopy\n",
        "import numpy as np"
      ],
      "execution_count": null,
      "outputs": []
    },
    {
      "cell_type": "code",
      "metadata": {
        "id": "AvFK7oynYWcr"
      },
      "source": [
        "class Function():\n",
        "  def __init__(self, name = None, value = [], interval = []):\n",
        "    self.name = name\n",
        "    self.val = value\n",
        "    self.t = interval\n",
        "  def remove_first(self):\n",
        "    self.t.pop(0)\n",
        "    return self.val.pop(0)\n",
        "  def isEmpty(self):\n",
        "    return not self.val"
      ],
      "execution_count": null,
      "outputs": []
    },
    {
      "cell_type": "code",
      "metadata": {
        "id": "ftJk7epmOSMz"
      },
      "source": [
        "class Stack():\n",
        "  def __init__(self):\n",
        "    self.stack = []\n",
        "  def push(self, value):\n",
        "    self.stack.append(value)\n",
        "  def pop(self):\n",
        "    return self.stack.pop()\n",
        "  def index(self, i):\n",
        "    return self.stack[len(self.stack) - 1 - i]"
      ],
      "execution_count": null,
      "outputs": []
    },
    {
      "cell_type": "code",
      "metadata": {
        "id": "zrrJsnzPXile"
      },
      "source": [
        "def convolution(f1, f2):\n",
        "\n",
        "  x, h = (deepcopy(f2), deepcopy(f1)) if len(f1.t) > len(f2.t) else (deepcopy(f1), deepcopy(f2))\n",
        "\n",
        "  h.t = [-t for t in h.t]\n",
        "  delta = x.t[0] - h.t[0]\n",
        "  h.t = [t + delta for t in h.t]\n",
        "\n",
        "  y = Function('y', [], [])\n",
        "  length = len(x.t) + len(h.t) - 1\n",
        "\n",
        "  overlap = Stack()\n",
        "  overlap.push(h.remove_first())\n",
        "  for i in range(0, length):\n",
        "    sigma = 0\n",
        "    y.t.append(i + delta)\n",
        "    overlap_section = min([len(overlap.stack), len(x.val)])\n",
        "    for j in range(0, overlap_section):\n",
        "      sigma = sigma + overlap.index(j) * x.val[j]\n",
        "    y.val.append(sigma)\n",
        "    \n",
        "    if not h.isEmpty():\n",
        "      overlap.push(h.remove_first())\n",
        "    else:\n",
        "      x.remove_first()\n",
        "\n",
        "  return y"
      ],
      "execution_count": null,
      "outputs": []
    },
    {
      "cell_type": "code",
      "metadata": {
        "id": "ZV5O27xlRKCn"
      },
      "source": [
        "def plot(func):\n",
        "\n",
        "  name, val, t = func.name, func.val, func.t\n",
        "\n",
        "  plt.scatter(t, val, label = '{0}(t)'.format(name))\n",
        "\n",
        "  plt.title(name + '(t)')\n",
        "\n",
        "  plt.xlabel('t axis')\n",
        "  plt.ylabel(name + ' axis')\n",
        "\n",
        "  plt.grid(alpha= .4, linestyle = '--')\n",
        "\n",
        "  plt.legend()"
      ],
      "execution_count": null,
      "outputs": []
    },
    {
      "cell_type": "code",
      "metadata": {
        "id": "PQ6ApAX9FgPg"
      },
      "source": [
        "def step(t):\n",
        "  return [1 for x in t]"
      ],
      "execution_count": null,
      "outputs": []
    },
    {
      "cell_type": "code",
      "metadata": {
        "id": "zQmKFFWxIHLa"
      },
      "source": [
        "def ramp(t):\n",
        "  return [x for x in t]"
      ],
      "execution_count": null,
      "outputs": []
    },
    {
      "cell_type": "code",
      "metadata": {
        "id": "11KOhR98F9Il"
      },
      "source": [
        "def interval(t1, t2):\n",
        "  return [t for t in range(t1, t2)]"
      ],
      "execution_count": null,
      "outputs": []
    },
    {
      "cell_type": "markdown",
      "metadata": {
        "id": "GJY1V4-_GxCu"
      },
      "source": [
        "---\n",
        "\n",
        "# Célula de criação das funções x(t) e h(t) abaixo\n",
        "\n",
        "\n",
        "Para definir o intervalo de tempo da função:\n",
        "```\n",
        "t = interval(a, b)\n",
        "```\n",
        "Para alterar o valor em cada instante t:\n",
        "\n",
        "```\n",
        "val = [f(x) for x in t] \n",
        "```\n",
        "Funções pré-prontas:\n",
        "\n",
        "1.   ```step(t)```\n",
        "2.   ```ramp(t)```\n",
        "\n",
        "Exponencial (exemplo exp(x)):\n",
        "\n",
        "\n",
        "```\n",
        "[math.exp(x) for x in t] \n",
        "```\n",
        "\n",
        "Passe ```t``` e ```val``` como parâmetros do objeto ```Function```, que recebe nome, valor e intervalo de tempo.\n",
        "\n",
        "Use ```plot(f)``` para mostrar a função graficamente.\n",
        "\n",
        "```convolution(x, h)``` recebe 2 objetos do tipo ```Function``` e retorna uma ```Function```.\n",
        "\n",
        "---\n",
        "\n",
        "Abaixo jaz um exemplo de como gerar x(t) = u(t) para t entre 0 e 10 e h(t) = 0.5^t para t entre 0 e 10:"
      ]
    },
    {
      "cell_type": "code",
      "metadata": {
        "id": "w6uYCuUcSDpG",
        "colab": {
          "base_uri": "https://localhost:8080/",
          "height": 295
        },
        "outputId": "87bd350b-f597-4fdb-f097-1f7724ddc7c5"
      },
      "source": [
        "# Criar função x(t)\n",
        "t = interval(0, 10)                        # Determinar intervalo de tempo\n",
        "val = step(t)                              # Valor para cada t.\n",
        "x = Function('x', val, t)\n",
        "plot(x)\n",
        "\n",
        "# Criar função h(t)\n",
        "t = interval(0, 10)\n",
        "val = [0.5 ** x for x in t]        \n",
        "h = Function('h', val, t)\n",
        "plot(h)"
      ],
      "execution_count": null,
      "outputs": [
        {
          "output_type": "display_data",
          "data": {
            "image/png": "[encoded data removed]",
            "text/plain": [
              "<Figure size 432x288 with 1 Axes>"
            ]
          },
          "metadata": {
            "tags": []
          }
        }
      ]
    },
    {
      "cell_type": "code",
      "metadata": {
        "id": "ItjBrNBNlpXt",
        "colab": {
          "base_uri": "https://localhost:8080/",
          "height": 295
        },
        "outputId": "00b2526c-b1d5-4e09-a029-2377bc3c7f07"
      },
      "source": [
        "y = convolution(x, h)\n",
        "plot(y)"
      ],
      "execution_count": null,
      "outputs": [
        {
          "output_type": "display_data",
          "data": {
            "image/png": "[encoded data removed]",
            "text/plain": [
              "<Figure size 432x288 with 1 Axes>"
            ]
          },
          "metadata": {
            "tags": []
          }
        }
      ]
    }
  ]
}